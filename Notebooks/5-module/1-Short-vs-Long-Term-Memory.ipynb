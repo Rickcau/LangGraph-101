{
 "cells": [
  {
   "cell_type": "markdown",
   "metadata": {},
   "source": [
    "# Short vs Long term memory\n",
    "\n",
    "The LangChain team has compiled a 25 page PDF on this topic, so I recommend that you read this document.\n",
    "\n",
    "[Short vs Long Term Memomry](https://files.cdn.thinkific.com/file_uploads/967498/attachments/dc4/f52/87a/LangChain_Academy_-_Introduction_to_LangGraph_-_Long-Term_Memory.pdf)\n"
   ]
  }
 ],
 "metadata": {
  "language_info": {
   "name": "python"
  }
 },
 "nbformat": 4,
 "nbformat_minor": 2
}
