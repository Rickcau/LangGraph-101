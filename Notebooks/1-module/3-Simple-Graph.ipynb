{
 "cells": [
  {
   "cell_type": "markdown",
   "metadata": {},
   "source": [
    "# Simple Graph\n",
    "Ok, it's time to dive into LangGraph now that you have some of the fundamental concepts down.  We will build a simple graph with 3 modes and one conditional edge."
   ]
  },
  {
   "cell_type": "markdown",
   "metadata": {},
   "source": [
    "# What are nodes\n",
    "Nodes can be tools, agents or another graph (sub-graph), technically they are really just python functions.  When the team Agent is used, it often just means that the Agent will interact with an LLM, but there no requirement that an Agent **must** make an LLM call.  Graphs can be using without any interaction with an LLM"
   ]
  },
  {
   "cell_type": "markdown",
   "metadata": {},
   "source": [
    "# State\n",
    "The State Schema servies as the input schema for all Nodes and Edges in the graph.  Basically, Nodes will read and write to the State and this is how the various node understand what the previous Nodes have done or need to have done.  So, lets define the State object now."
   ]
  },
  {
   "cell_type": "code",
   "execution_count": 1,
   "metadata": {},
   "outputs": [],
   "source": [
    "from typing_extensions import TypedDict\n",
    "\n",
    "class State(TypedDict):\n",
    "    graph_state: str"
   ]
  },
  {
   "cell_type": "markdown",
   "metadata": {},
   "source": [
    "# Nodes\n",
    "The first positional argument si the state, as defined above.  Because the state is a **TypedDict** with the schema as defined above, each node can acces th key, **graph_state, with **state['graph_state']**.\n",
    "\n",
    "Each node returns a new value of the state key **graph_state**.\n",
    "\n",
    "By default, the new value returned by each node will override the prior state value."
   ]
  },
  {
   "cell_type": "code",
   "execution_count": 2,
   "metadata": {},
   "outputs": [],
   "source": [
    "def node_1(state):\n",
    "    print(\"---Node 1---\")\n",
    "    return {\"graph_state\": state['graph_state'] +\" I am\"}\n",
    "\n",
    "def node_2(state):\n",
    "    print(\"---Node 2---\")\n",
    "    return {\"graph_state\": state['graph_state'] +\" happy!\"}\n",
    "\n",
    "def node_3(state):\n",
    "    print(\"---Node 3---\")\n",
    "    return {\"graph_state\": state['graph_state'] +\" sad!\"}"
   ]
  },
  {
   "cell_type": "markdown",
   "metadata": {},
   "source": [
    "# Edges\n",
    "**Edges** connect the nodes.  Normal **Edges** are used if you want to *always* go from, for example, **node_1** to **node_2**.\n",
    "\n",
    "**Conditional Edges** are used when you need to *optionally* route between nodes, keyword here is *optionally*.  **Conditional Edges** are implemented as functions that return the next node to vist based upon some logic."
   ]
  },
  {
   "cell_type": "code",
   "execution_count": 3,
   "metadata": {},
   "outputs": [],
   "source": [
    "import random\n",
    "from typing import Literal\n",
    "\n",
    "def decide_mood(state) -> Literal[\"node_2\", \"node_3\"]:\n",
    "    \n",
    "    # Often, we will use state to decide on the next node to visit\n",
    "    user_input = state['graph_state'] \n",
    "    \n",
    "    # Here, let's just do a 50 / 50 split between nodes 2, 3\n",
    "    if random.random() < 0.5:\n",
    "\n",
    "        # 50% of the time, we return Node 2\n",
    "        return \"node_2\"\n",
    "    \n",
    "    # 50% of the time, we return Node 3\n",
    "    return \"node_3\""
   ]
  },
  {
   "cell_type": "markdown",
   "metadata": {},
   "source": [
    "# Graph Construction\n",
    "Now, we will build the graph from our components defined above.  The **State** class is the class that we can use to initialzie the **StateGraph**.\n",
    "\n",
    "1. We need to initialize a StateGraph with the *State* calls we defined above.\n",
    "2. Then we add our nodes and edges.\n",
    "3. We will use the **START** Node, a special node that sends user input to the graph, to indicate where to start our graph.\n",
    "4. The *END* Node is a special node that represenbts a terminal node.\n",
    "5. Finally, we compile our graph to perform a few basic checks on the graph structure.\n",
    "6. We can visualiuze the graph as a Mermaid diagram."
   ]
  },
  {
   "cell_type": "code",
   "execution_count": null,
   "metadata": {},
   "outputs": [],
   "source": [
    "from IPython.display import Image, display\n",
    "from langgraph.graph import StateGraph, START, END\n",
    "\n",
    "# Build graph\n",
    "builder = StateGraph(State)\n",
    "builder.add_node(\"node_1\", node_1)\n",
    "builder.add_node(\"node_2\", node_2)\n",
    "builder.add_node(\"node_3\", node_3)\n",
    "\n",
    "# Logic\n",
    "builder.add_edge(START, \"node_1\")\n",
    "builder.add_conditional_edges(\"node_1\", decide_mood)\n",
    "builder.add_edge(\"node_2\", END)\n",
    "builder.add_edge(\"node_3\", END)\n",
    "\n",
    "# Add\n",
    "graph = builder.compile()\n",
    "\n",
    "# View\n",
    "display(Image(graph.get_graph().draw_mermaid_png()))"
   ]
  },
  {
   "cell_type": "markdown",
   "metadata": {},
   "source": [
    "# Graph Invocation\n",
    "The compiled graphe implements the [runnable](https://python.langchain.com/v0.1/docs/expression_language/interface/) protocol which provides a standard way to execute LangChain components, **invoke** is one of the standard methods in this interface.\n",
    "\n",
    "The **input** is a dictionary **{\"graph_state\":\"Hi, this is Rick.\"}**, which sets the initial value for our graph state dictionary.\n",
    "\n",
    "When **invoke** is called, the graph starts execution from the **START** node.  It progresses through the defined nodes (**node_1**, **node_2**, **node_3**) in order.\n",
    "\n",
    "The **conditional edge** will traverse from **node_1** to **node_2** or **node_3** using a 50/50 decison rule.\n",
    "\n",
    "Each node funciton receives the current state and returns the new value, which overrides the graph state.  The execution continues until it reaches the **END** node."
   ]
  },
  {
   "cell_type": "code",
   "execution_count": 17,
   "metadata": {},
   "outputs": [
    {
     "name": "stdout",
     "output_type": "stream",
     "text": [
      "---Node 1---\n",
      "---Node 3---\n"
     ]
    },
    {
     "data": {
      "text/plain": [
       "{'graph_state': 'Hi, this is Rick. I am sad!'}"
      ]
     },
     "execution_count": 17,
     "metadata": {},
     "output_type": "execute_result"
    }
   ],
   "source": [
    "graph.invoke({\"graph_state\" : \"Hi, this is Rick.\"})"
   ]
  },
  {
   "cell_type": "markdown",
   "metadata": {},
   "source": [
    "**invoke** runs the entire graph synchronously!  This waits for each step to complete before moving to the next.  It returns the final state of the graph after all the nodes have executed:\n",
    "\n",
    "   ~~~\n",
    "      {'graph_state': 'Hi, this is Rick. I am sad!'}\n",
    "   ~~~"
   ]
  }
 ],
 "metadata": {
  "kernelspec": {
   "display_name": "LangGraph-101-env",
   "language": "python",
   "name": "python3"
  },
  "language_info": {
   "codemirror_mode": {
    "name": "ipython",
    "version": 3
   },
   "file_extension": ".py",
   "mimetype": "text/x-python",
   "name": "python",
   "nbconvert_exporter": "python",
   "pygments_lexer": "ipython3",
   "version": "3.12.8"
  }
 },
 "nbformat": 4,
 "nbformat_minor": 2
}
