{
 "cells": [
  {
   "cell_type": "markdown",
   "metadata": {},
   "source": [
    "# Chains\n",
    "Now, lets build on top of what you have learned so far.  We will build a **chain** that combines 4 concepts.  In LangChain you can leverage LangChain Expression Language, which is a declarative way to chain LangChain components.\n",
    "\n",
    "In LangChain, a **Chain** is a sequence of steps or components that work together to accomplish a task. Here's a layman's explanation:\n",
    "\n",
    "Think of a Chain like a recipe or a workflow. It's a series of instructions or actions that you want the language model to follow.\n",
    "\n",
    "Each step in the Chain is called a \"Runnable\". This could be things like:\n",
    "\n",
    "- Calling a language model to generate some text\n",
    "- Retrieving information from a database or API\n",
    "- Parsing or transforming the output of a previous step\n",
    "\n",
    "![chain](../../images/chain.jpg)"
   ]
  },
  {
   "cell_type": "markdown",
   "metadata": {},
   "source": [
    "# Messages\n",
    "LLMs use messages, which we covered in [Module 1](../1-module/2-Messages-Streaming.ipynb).  Messages are used to capture different roles within the conversation.\n",
    "\n",
    "LangChain supports various message types, such as **HumanMessage**, **AIMessage**, **SystemMessage** and **ToolMessage**.  These represent a message from the user, from LLM for the model to instruct behavior, and from a tool call.\n",
    "\n",
    "1. We will start by creating a list of messages.\n",
    "\n",
    "Each message can be suppied with a few things:\n",
    "- **content** - content of the message\n",
    "- **name** - optionally, a message author\n",
    "- **response_metadate** - optionally, a dict of metadata (e.g., often populated by the model provider for **AIMessages**)"
   ]
  },
  {
   "cell_type": "code",
   "execution_count": null,
   "metadata": {},
   "outputs": [],
   "source": [
    "from pprint import pprint\n",
    "from langchain_core.messages import AIMessage, HumanMessage\n",
    "\n",
    "messages = [AIMessage(content=f\"So you said you were researching prompt engineering?\", name=\"Model\")]\n",
    "messages.append(HumanMessage(content=f\"Yes, that's right.\",name=\"Rick\"))\n",
    "messages.append(AIMessage(content=f\"Great, what would you like to learn about.\", name=\"Model\"))\n",
    "messages.append(HumanMessage(content=f\"I want to learn about the Plan and Solve pattern\", name=\"Lance\"))\n",
    "\n",
    "for m in messages:\n",
    "    m.pretty_print()"
   ]
  },
  {
   "cell_type": "markdown",
   "metadata": {},
   "source": [
    "# Large Language Models\n",
    "LLMs can use a sequence of messages as input and message types as previously mentioned.  We will leveage Azure OpenAI as an example.\n",
    "\n",
    "Let's check that your **AZURE_OPENAI_API_KEY** is set and if not you will be asked to enter it."
   ]
  },
  {
   "cell_type": "code",
   "execution_count": 2,
   "metadata": {},
   "outputs": [
    {
     "name": "stdout",
     "output_type": "stream",
     "text": [
      "API Key: 8PVz****************************Isv1\n"
     ]
    }
   ],
   "source": [
    "import os, getpass\n",
    "from langchain_openai import AzureChatOpenAI\n",
    "\n",
    "from dotenv import load_dotenv\n",
    "import os\n",
    "from pathlib import Path\n",
    "\n",
    "# Get root directory path\n",
    "root_dir = Path().absolute().parent.parent\n",
    "env_path = root_dir / '.env'\n",
    "\n",
    "# Load .env from root\n",
    "load_dotenv(dotenv_path=env_path)\n",
    "\n",
    "def _set_env(var: str):\n",
    "    if not os.environ.get(var):\n",
    "        os.environ[var] = getpass.getpass(f\"{var}: \")\n",
    "\n",
    "_set_env(\"AZURE_OPENAI_API_KEY\")\n",
    "# Access variables\n",
    "api_key = os.getenv('AZURE_OPENAI_API_KEY')\n",
    "\n",
    "print(f\"API Key: {  api_key[:4] + '*' * 28 + api_key[-4:] }\")"
   ]
  },
  {
   "cell_type": "markdown",
   "metadata": {},
   "source": [
    "Let's load a model and invoke it with our list of messages.  We can see that the results is an **AIMessage** with specific **response_metadata**."
   ]
  },
  {
   "cell_type": "code",
   "execution_count": 3,
   "metadata": {},
   "outputs": [
    {
     "data": {
      "text/plain": [
       "langchain_core.messages.ai.AIMessage"
      ]
     },
     "execution_count": 3,
     "metadata": {},
     "output_type": "execute_result"
    }
   ],
   "source": [
    "from langchain_openai import AzureChatOpenAI\n",
    "llm = AzureChatOpenAI(model_name=\"gpt-4o\")\n",
    "result = llm.invoke(messages)\n",
    "type(result)"
   ]
  },
  {
   "cell_type": "markdown",
   "metadata": {},
   "source": [
    "Now let's take a look at the result."
   ]
  },
  {
   "cell_type": "code",
   "execution_count": 4,
   "metadata": {},
   "outputs": [
    {
     "data": {
      "text/plain": [
       "AIMessage(content='One of the best places to see orcas in the United States is the San Juan Islands in Washington State. The waters around these islands are known for having resident orca pods, particularly during the summer months. The southern resident killer whales, which are an endangered population, are often seen in this area.\\n\\nAnother prime location is the Puget Sound, which also offers opportunities to see these magnificent creatures, especially during their feeding season.\\n\\nFor those on the East Coast, while orcas are less common, there have been occasional sightings off the coast of Maine.\\n\\nWhen planning a trip to see orcas, consider joining a guided whale-watching tour, as these are led by experts who know the best spots and times to see orcas while ensuring minimal disturbance to the animals.', additional_kwargs={'refusal': None}, response_metadata={'token_usage': {'completion_tokens': 154, 'prompt_tokens': 67, 'total_tokens': 221, 'completion_tokens_details': None, 'prompt_tokens_details': None}, 'model_name': 'gpt-4o-2024-08-06', 'system_fingerprint': 'fp_04751d0b65', 'prompt_filter_results': [{'prompt_index': 0, 'content_filter_results': {'hate': {'filtered': False, 'severity': 'safe'}, 'jailbreak': {'filtered': False, 'detected': False}, 'self_harm': {'filtered': False, 'severity': 'safe'}, 'sexual': {'filtered': False, 'severity': 'safe'}, 'violence': {'filtered': False, 'severity': 'safe'}}}], 'finish_reason': 'stop', 'logprobs': None, 'content_filter_results': {'hate': {'filtered': False, 'severity': 'safe'}, 'self_harm': {'filtered': False, 'severity': 'safe'}, 'sexual': {'filtered': False, 'severity': 'safe'}, 'violence': {'filtered': False, 'severity': 'safe'}}}, id='run-05904553-bac2-4d1b-b8e6-d3ef04af37cd-0', usage_metadata={'input_tokens': 67, 'output_tokens': 154, 'total_tokens': 221, 'input_token_details': {}, 'output_token_details': {}})"
      ]
     },
     "execution_count": 4,
     "metadata": {},
     "output_type": "execute_result"
    }
   ],
   "source": [
    "result"
   ]
  },
  {
   "cell_type": "markdown",
   "metadata": {},
   "source": [
    "Now, let's take a look at the **response_metadata**."
   ]
  },
  {
   "cell_type": "code",
   "execution_count": null,
   "metadata": {},
   "outputs": [],
   "source": [
    "result.response_metadata\n"
   ]
  },
  {
   "cell_type": "markdown",
   "metadata": {},
   "source": [
    "Notice how the response_metadata has all sorts of valuable information (e.g. token usage etc.)!"
   ]
  },
  {
   "cell_type": "markdown",
   "metadata": {},
   "source": [
    "# Tools\n",
    "Tools are useful whenever you want to have a model interact with external systems.  External systems (e.g., APIs) often require a particular input schema or payload, rather than natural language.  We we **bind** an API, for example, as a tool we have provided the model with awareness of the required **input schema**.\n",
    "\n",
    "The model will choose to call a tool base dupon the natural language input from the user, and it will return an output that adheres to the tool's schema.  Most LLM providers support tool calling and the [tool calling interface](https://blog.langchain.dev/improving-core-tool-interfaces-and-docs-in-langchain/) in LangChain is fairly simple.\n",
    "\n",
    "You can pass any Python **function** into **Model.bind_tools(function)**. \n",
    "\n",
    "![tool calling](../../images/tool-calling.jpg)"
   ]
  },
  {
   "cell_type": "markdown",
   "metadata": {},
   "source": [
    "Let's take a look at a simple example example **tool calling**.  This example is a little different than the example found in the [Messages-Streaming] example found in **module 1**.  \n",
    "\n",
    "We will create a **multiply** function as our tool."
   ]
  },
  {
   "cell_type": "code",
   "execution_count": 6,
   "metadata": {},
   "outputs": [],
   "source": [
    "def multiply(a: int, b: int) -> int:\n",
    "    \"\"\"Multiply a and b.\n",
    "\n",
    "    Args:\n",
    "        a: first int\n",
    "        b: second int\n",
    "    \"\"\"\n",
    "    return a * b\n",
    "\n",
    "llm_with_tools = llm.bind_tools([multiply])"
   ]
  },
  {
   "cell_type": "markdown",
   "metadata": {},
   "source": [
    "If we pass an input e.g., **\"What is 2 multipled by 3\" - we will see a tool called returned.\n",
    "\n",
    "The tool call has specific arguments that match the input schema of our function along with the name of the function to call.\n",
    "\n",
    "   ~~~\n",
    "      {'arguments': '{\"a\":2,\"b\":3}', name': 'multiply'}\n",
    "   ~~~"
   ]
  },
  {
   "cell_type": "code",
   "execution_count": 14,
   "metadata": {},
   "outputs": [
    {
     "data": {
      "text/plain": [
       "AIMessage(content='', additional_kwargs={'tool_calls': [{'id': 'call_ZDXzr9C2Wi7ktwgApaZcOFjr', 'function': {'arguments': '{\"a\":2,\"b\":3}', 'name': 'multiply'}, 'type': 'function'}], 'refusal': None}, response_metadata={'token_usage': {'completion_tokens': 17, 'prompt_tokens': 62, 'total_tokens': 79, 'completion_tokens_details': None, 'prompt_tokens_details': None}, 'model_name': 'gpt-4o-2024-08-06', 'system_fingerprint': 'fp_04751d0b65', 'prompt_filter_results': [{'prompt_index': 0, 'content_filter_results': {'hate': {'filtered': False, 'severity': 'safe'}, 'jailbreak': {'filtered': False, 'detected': False}, 'self_harm': {'filtered': False, 'severity': 'safe'}, 'sexual': {'filtered': False, 'severity': 'safe'}, 'violence': {'filtered': False, 'severity': 'safe'}}}], 'finish_reason': 'tool_calls', 'logprobs': None, 'content_filter_results': {}}, id='run-121a001f-7f59-4b7d-b056-32c0b774763a-0', tool_calls=[{'name': 'multiply', 'args': {'a': 2, 'b': 3}, 'id': 'call_ZDXzr9C2Wi7ktwgApaZcOFjr', 'type': 'tool_call'}], usage_metadata={'input_tokens': 62, 'output_tokens': 17, 'total_tokens': 79, 'input_token_details': {}, 'output_token_details': {}})"
      ]
     },
     "execution_count": 14,
     "metadata": {},
     "output_type": "execute_result"
    }
   ],
   "source": [
    "import json\n",
    "tool_call = llm_with_tools.invoke([HumanMessage(content=f\"What is 2 multiplied by 3\", name=\"Lance\")])\n",
    "tool_call\n"
   ]
  },
  {
   "cell_type": "code",
   "execution_count": 13,
   "metadata": {},
   "outputs": [
    {
     "data": {
      "text/plain": [
       "[{'id': 'call_D5knnjVW6yfq1Y9UxPaTeQEx',\n",
       "  'function': {'arguments': '{\"a\":2,\"b\":3}', 'name': 'multiply'},\n",
       "  'type': 'function'}]"
      ]
     },
     "execution_count": 13,
     "metadata": {},
     "output_type": "execute_result"
    }
   ],
   "source": [
    "tool_call.additional_kwargs['tool_calls']"
   ]
  },
  {
   "cell_type": "markdown",
   "metadata": {},
   "source": [
    "# Using Messages as State\n",
    "With these foundations and knowledge in place, we can now use **messages** in our graph state.\n",
    "\n",
    "Let's define our state, **MessagesState**, as a **TypedDict** with a single key: **messages**.\n",
    "\n",
    "**messages** is simply a list of messages, as we demostrated eariler (e.g., HumanMessage, etc)."
   ]
  },
  {
   "cell_type": "code",
   "execution_count": 15,
   "metadata": {},
   "outputs": [],
   "source": [
    "from typing_extensions import TypedDict\n",
    "from langchain_core.messages import AnyMessage\n",
    "\n",
    "class MessagesState(TypedDict):\n",
    "    messages: list[AnyMessage]"
   ]
  },
  {
   "cell_type": "markdown",
   "metadata": {},
   "source": [
    "# Reducers\n",
    "We have a minor problem!  As we mentioned eariler, each node will return a new value for our state key **messages**, so this means our new value will **override** the prior **messages** state key!\n",
    "\n",
    "As our graph runs, we want to **append** messages to our **messages** state key.  We will use **reducer functions** to address this.  Please read the **Important Notes about Reducers** section below.\n",
    "\n",
    "Reducers allow us to specify how state updates are performed.  If no reducer functiuon is explicitly specified then it is assumed that all updates to that key **should override it**!\n",
    "\n",
    "But, to append messages, we can use the pre-built **add_messagfes** reducer.  This ensures that any **messages** are appended to the existing list of **messages**.\n",
    "\n",
    "We simply need to annotate **messages** key with the **add_messages** reducer function as metadata. \n",
    "\n",
    "## Important Notes about Reducers\n",
    "\n",
    "We can use [**reducer functions**](https://langchain-ai.github.io/langgraph/concepts/low_level/#reducers) to address this.  Reducers are key to understanding how updates from the nodes are applied to the **State**.  Each key in the **State** has its own independent reducer function.    There are a few different types of reducers, starting with the default tyhpe of reducer:\n",
    "\n",
    "Please take a look at the [**reducers**](https://langchain-ai.github.io/langgraph/concepts/low_level/#reducers) documentation for a detailed explaination."
   ]
  },
  {
   "cell_type": "markdown",
   "metadata": {},
   "source": [
    "Ok, so let's create a custom state object with two **keys** one called **some_place_holder** which has no **reducer** specified, as a result this is treated as an update to the state, so it is overridden each time.  \n",
    "\n",
    "But, notice how we use an **Annotated** type to specify a reducer function (**operator.add_messages**) for the **messages** key.  If you simply used the **operator.add** as the reducer for **messages** this would allow you to allow append messages only.  By using the (**operator.add_messages**) this allows us to add new messages as well as update existing messages."
   ]
  },
  {
   "cell_type": "code",
   "execution_count": 19,
   "metadata": {},
   "outputs": [],
   "source": [
    "from typing import Annotated\n",
    "from langgraph.graph.message import add_messages\n",
    "\n",
    "class MessagesState(TypedDict):\n",
    "    some_place_holder: str\n",
    "    messages: Annotated[list[AnyMessage], add_messages]"
   ]
  },
  {
   "cell_type": "markdown",
   "metadata": {},
   "source": [
    "Having a list of messages in graph state is so common, LangGraph has a pre-built **MessagesState**!\n",
    "\n",
    "**MessagesState** is defined as:\n",
    "- With a pre-built single messages key\n",
    "- This is a list of **AnyMessage** objects\n",
    "- It uses the **add_messages** reducer\n",
    "\n",
    "We will usually use **MessagesState** because it is less verbose than defining a customer **TypedDict**, as shown abnove.\n",
    "\n",
    "Let's take a look at using the pre-built **MessagesState*."
   ]
  },
  {
   "cell_type": "code",
   "execution_count": 17,
   "metadata": {},
   "outputs": [],
   "source": [
    "from langgraph.graph import MessagesState\n",
    "\n",
    "class MessagesState(MessagesState):\n",
    "    some_place_holder: str\n"
   ]
  },
  {
   "cell_type": "markdown",
   "metadata": {},
   "source": [
    "Let's go a bit deeper and see how the **add_messages** reducer wrks in isolation."
   ]
  },
  {
   "cell_type": "code",
   "execution_count": null,
   "metadata": {},
   "outputs": [],
   "source": [
    "from typing import Annotated\n",
    "from pprint import pprint\n",
    "from langgraph.graph.message import add_messages\n",
    "# Initial state\n",
    "initial_messages = [AIMessage(content=\"Hello! How can I assist you?\", name=\"Model\"),\n",
    "                    HumanMessage(content=\"I'm looking for information on mountain biking.\", name=\"Rick\")\n",
    "                   ]\n",
    "\n",
    "# New message to add\n",
    "new_message = AIMessage(content=\"Sure, I can help with that. What specifically are you interested in?\", name=\"Model\")\n",
    "\n",
    "# Test\n",
    "result = add_messages(initial_messages , new_message)\n",
    "for m in result:\n",
    "    m.pretty_print()"
   ]
  },
  {
   "cell_type": "markdown",
   "metadata": {},
   "source": [
    "As we can see, the new message is added to the **initial_messages**."
   ]
  },
  {
   "cell_type": "markdown",
   "metadata": {},
   "source": [
    "# Our Graph\n",
    "Now, let's use the **MessagesState** with a graph.  Notice how we did not sub-class the **MessagesState** pre-built state object.  We simply pass it to the **tool_calling_llm** function.  \n",
    "\n",
    "## What is happening here?\n",
    "1. The MessagesState object is passed to the function and by **default** it has a **Messages** key with default **reducer** that looks like this:\n",
    "\n",
    "   ~~~\n",
    "      messages: Annotated[list[AnyMessage], add_messages]\n",
    "   ~~~\n",
    "\n",
    "Which gives us the default ability to add or update messages in the **MessagesState** object as explained eariler.\n",
    "\n",
    "2. Notice that we are invoking our LLM with **llm_with_tools.invoke(state[\"messages\"])**.  This results in the **messages** being passed to the LLM and the response being adding to the **messages** key as a new **AIMessage**!  \n",
    "\n",
    "Very important to note that the have not invoked the *graph* yet, so the tool has **not** been called yet."
   ]
  },
  {
   "cell_type": "code",
   "execution_count": 27,
   "metadata": {},
   "outputs": [
    {
     "data": {
      "image/png": "[encoded data removed]",
      "text/plain": [
       "<IPython.core.display.Image object>"
      ]
     },
     "metadata": {},
     "output_type": "display_data"
    }
   ],
   "source": [
    "from IPython.display import Image, display\n",
    "from langgraph.graph import StateGraph, START, END\n",
    "    \n",
    "# Node\n",
    "def tool_calling_llm(state: MessagesState):\n",
    "    return {\"messages\": [llm_with_tools.invoke(state[\"messages\"])]}\n",
    "\n",
    "# Build graph\n",
    "builder = StateGraph(MessagesState)\n",
    "builder.add_node(\"tool_calling_llm\", tool_calling_llm)\n",
    "builder.add_edge(START, \"tool_calling_llm\")\n",
    "builder.add_edge(\"tool_calling_llm\", END)\n",
    "graph = builder.compile()\n",
    "\n",
    "# View\n",
    "display(Image(graph.get_graph().draw_mermaid_png()))"
   ]
  },
  {
   "cell_type": "markdown",
   "metadata": {},
   "source": [
    "Let's pass in a *\"Hello\"* and invoke our graph and we will see the the LLM repsonse without anyt tool calls."
   ]
  },
  {
   "cell_type": "code",
   "execution_count": 28,
   "metadata": {},
   "outputs": [
    {
     "name": "stdout",
     "output_type": "stream",
     "text": [
      "================================\u001b[1m Human Message \u001b[0m=================================\n",
      "\n",
      "Hello!\n",
      "==================================\u001b[1m Ai Message \u001b[0m==================================\n",
      "\n",
      "Hi there! How can I assist you today?\n"
     ]
    }
   ],
   "source": [
    "messages = graph.invoke({\"messages\": HumanMessage(content=\"Hello!\")})\n",
    "for m in messages['messages']:\n",
    "    m.pretty_print()"
   ]
  },
  {
   "cell_type": "markdown",
   "metadata": {},
   "source": [
    "Now, let's in a prompt that will result in the LLM choosing a tool to use when it determines that the input or taks requires the functionality provided by a tool."
   ]
  },
  {
   "cell_type": "code",
   "execution_count": 29,
   "metadata": {},
   "outputs": [
    {
     "name": "stdout",
     "output_type": "stream",
     "text": [
      "================================\u001b[1m Human Message \u001b[0m=================================\n",
      "\n",
      "Multiply 2 and 3\n",
      "==================================\u001b[1m Ai Message \u001b[0m==================================\n",
      "Tool Calls:\n",
      "  multiply (call_t6fBklbM6n2cneKu1ucPDOzD)\n",
      " Call ID: call_t6fBklbM6n2cneKu1ucPDOzD\n",
      "  Args:\n",
      "    a: 2\n",
      "    b: 3\n"
     ]
    }
   ],
   "source": [
    "messages = graph.invoke({\"messages\": HumanMessage(content=\"Multiply 2 and 3\")})\n",
    "for m in messages['messages']:\n",
    "    m.pretty_print()"
   ]
  }
 ],
 "metadata": {
  "kernelspec": {
   "display_name": "LangGraph-101-env",
   "language": "python",
   "name": "python3"
  },
  "language_info": {
   "codemirror_mode": {
    "name": "ipython",
    "version": 3
   },
   "file_extension": ".py",
   "mimetype": "text/x-python",
   "name": "python",
   "nbconvert_exporter": "python",
   "pygments_lexer": "ipython3",
   "version": "3.12.8"
  }
 },
 "nbformat": 4,
 "nbformat_minor": 2
}
