{
 "cells": [
  {
   "cell_type": "markdown",
   "metadata": {},
   "source": [
    "# State Reducers\n",
    "## Review\n",
    "We covered a few different ways to define LangGraph state schema, including **TypedDict**, **Pydantic**, or **Dataclasses**.\n",
    "\n",
    "## Goals for this session\n",
    "Now, we're going to dive into reducers, specify how state updates are performed on specific keys / channels in the state schema."
   ]
  }
 ],
 "metadata": {
  "language_info": {
   "name": "python"
  }
 },
 "nbformat": 4,
 "nbformat_minor": 2
}
