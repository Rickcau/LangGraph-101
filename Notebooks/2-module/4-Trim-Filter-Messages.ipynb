{
 "cells": [
  {
   "cell_type": "markdown",
   "metadata": {},
   "source": [
    "# Filtering and trimming messages\n",
    "## Review\n",
    "Now, we have a deeper understanding of a few things:\n",
    "\n",
    "- How to customize the graph state schema\n",
    "- How to define custom state reducers\n",
    "- How to use multiple graph state schemas\n",
    "\n",
    "## Goals for this session\n",
    "Now, we can start using these concepts with models in LangGraph!\n",
    "\n",
    "In the next few sessions, we'll build towards a chatbot that has **long-term memory**.\n",
    "\n",
    "Because our chatbot will use messages, let's first talk a bit more about advanced ways to work with messages in graph state."
   ]
  }
 ],
 "metadata": {
  "language_info": {
   "name": "python"
  }
 },
 "nbformat": 4,
 "nbformat_minor": 2
}
