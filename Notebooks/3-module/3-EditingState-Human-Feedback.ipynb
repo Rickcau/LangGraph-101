{
 "cells": [
  {
   "cell_type": "markdown",
   "metadata": {},
   "source": [
    "# Editing graph state\n",
    "## Review\n",
    "We discussed motivations for human-in-the-loop:\n",
    "\n",
    "1. **Approval** - We can interrupt our agent, surface state to a user, and allow the user to accept an action\n",
    "\n",
    "2. **Debugging** - We can rewind the graph to reproduce or avoid issues\n",
    "\n",
    "3. **Editing** - You can modify the state\n",
    "\n",
    "We showed how breakpoints support user approval, but don't yet know how to modify our graph state once our graph is interrupted!\n",
    "\n",
    "## Goals for this session\n",
    "Now, let's show how to directly edit the graph state and insert human feedback."
   ]
  }
 ],
 "metadata": {
  "language_info": {
   "name": "python"
  }
 },
 "nbformat": 4,
 "nbformat_minor": 2
}
