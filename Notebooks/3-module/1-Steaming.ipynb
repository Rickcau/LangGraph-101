{
 "cells": [
  {
   "cell_type": "markdown",
   "metadata": {},
   "source": [
    "# Streaming\n",
    "## Review\n",
    "In module 2, we covered a few ways to customize the graph state and memory.\n",
    "\n",
    "We built up to a ChatBot with external memory that can sustain long-running conversations.\n",
    "\n",
    "## Goals for this session\n",
    "This module will dive into **human-in-the-loop**, which builds on memory and allows users to interact directly with graphs in various ways.\n",
    "\n",
    "To set the stage for **human-in-the-loop**, we'll first dive into **streaming**, which provides several ways to visualize graph output (e.g., **node state** or chat model tokens) over the course of execution.\n",
    "\n",
    "## Streaming\n",
    "LangGraph is built with first class support for **streaming**.\n",
    "\n",
    "Let's set up our Chatbot from **Module 2**, and show various way to **stream** outputs from the graph during execution."
   ]
  }
 ],
 "metadata": {
  "language_info": {
   "name": "python"
  }
 },
 "nbformat": 4,
 "nbformat_minor": 2
}
