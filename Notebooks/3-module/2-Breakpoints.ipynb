{
 "cells": [
  {
   "cell_type": "markdown",
   "metadata": {},
   "source": [
    "# Breakpoints\n",
    "## Review\n",
    "For **human-in-the-loop**, we often want to see our graph outputs as its running.\n",
    "\n",
    "We laid the foundations for this with streaming.\n",
    "\n",
    "## Goals for this session\n",
    "Now, let's talk about the motivations for human-in-the-loop:\n",
    "\n",
    "1. **Approval** - We can interrupt our agent, surface state to a user, and allow the user to accept an action\n",
    "\n",
    "2. **Debugging** - We can rewind the graph to reproduce or avoid issues\n",
    "\n",
    "3. **Editing** - You can modify the state\n",
    "\n",
    "LangGraph offers several ways to get or update agent state to support various **human-in-the-loop** workflows.\n",
    "\n",
    "First, we'll introduce **breakpoints**, which provide a simple way to stop the graph at specific steps.\n",
    "\n",
    "We'll show how this enables **user approval**."
   ]
  }
 ],
 "metadata": {
  "language_info": {
   "name": "python"
  }
 },
 "nbformat": 4,
 "nbformat_minor": 2
}
