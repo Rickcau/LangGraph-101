{
 "cells": [
  {
   "cell_type": "markdown",
   "metadata": {},
   "source": [
    "# Dynamic Breakpoints\n",
    "## Review\n",
    "We discussed motivations for human-in-the-loop:\n",
    "\n",
    "1. **Approval** - We can interrupt our agent, surface state to a user, and allow the user to accept an action\n",
    "\n",
    "2. **Debugging** - We can rewind the graph to reproduce or avoid issues\n",
    "\n",
    "3. **Editing** - You can modify the state\n",
    "\n",
    "We covered breakpoints as a general way to stop the graph at specific steps, which enables use-cases like Approval\n",
    "\n",
    "We also showed how to edit graph state, and introduce human feedback.\n",
    "\n",
    "## Goals for this session\n",
    "**Breakpoints** are set by the developer on a specific node during graph compilation.\n",
    "\n",
    "***But, sometimes it is helpful to allow the graph dynamically interrupt itself!***\n",
    "\n",
    "This is an internal breakpoint, and can be achieved using **NodeInterrupt**.\n",
    "\n",
    "This has a few specific benefits:\n",
    "\n",
    "1. You can do it **conditionally** (from inside a node based on developer-defined logic).\n",
    "\n",
    "2. You can **communicate** to the user why its interrupted (by passing whatever you want to the **NodeInterrupt**).\n",
    "\n",
    "Let's create a graph where a **NodeInterrupt** is thrown based upon length of the input."
   ]
  }
 ],
 "metadata": {
  "language_info": {
   "name": "python"
  }
 },
 "nbformat": 4,
 "nbformat_minor": 2
}
